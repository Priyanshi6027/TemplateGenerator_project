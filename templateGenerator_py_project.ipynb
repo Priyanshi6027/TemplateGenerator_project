{
 "cells": [
  {
   "cell_type": "code",
   "execution_count": 1,
   "id": "959d64e4-bd9d-4587-afbc-ea184ea829e6",
   "metadata": {},
   "outputs": [
    {
     "name": "stdout",
     "output_type": "stream",
     "text": [
      "Welcome to the Python Template Generator!\n",
      "Select an option to generate a template:\n",
      "\n",
      "Menu:\n",
      "1. Generate a Class Template\n",
      "2. Generate a Function Template\n",
      "3. Generate a Main Script Template\n",
      "4. Generate a Loop Template\n",
      "5. Exit\n"
     ]
    },
    {
     "name": "stdin",
     "output_type": "stream",
     "text": [
      "Enter your choice (1-5):  1\n",
      "Enter the class name:  car\n",
      "Enter attributes (comma-separated):  color,company,model\n",
      "Enter method names (comma-separated):  class method\n"
     ]
    },
    {
     "name": "stdout",
     "output_type": "stream",
     "text": [
      "\n",
      "Generated Class Template:\n",
      "class car:\n",
      "    def __init__(self, color,company,model):\n",
      "        self.color,company,model = color,company,model\n",
      "\n",
      "    def class method(self):\n",
      "        \"\"\"Describe the class method method.\"\"\"\n",
      "        pass\n",
      "\n",
      "\n",
      "Menu:\n",
      "1. Generate a Class Template\n",
      "2. Generate a Function Template\n",
      "3. Generate a Main Script Template\n",
      "4. Generate a Loop Template\n",
      "5. Exit\n"
     ]
    },
    {
     "name": "stdin",
     "output_type": "stream",
     "text": [
      "Enter your choice (1-5):  2\n",
      "Enter the function name:  greet\n",
      "Enter parameters (comma-separated):  morning,night\n",
      "Enter a brief description for the function:  greet function\n"
     ]
    },
    {
     "name": "stdout",
     "output_type": "stream",
     "text": [
      "\n",
      "Generated Function Template:\n",
      "def greet(morning,night):\n",
      "    \"\"\"greet function\"\"\"\n",
      "    pass\n",
      "\n",
      "\n",
      "Menu:\n",
      "1. Generate a Class Template\n",
      "2. Generate a Function Template\n",
      "3. Generate a Main Script Template\n",
      "4. Generate a Loop Template\n",
      "5. Exit\n"
     ]
    },
    {
     "name": "stdin",
     "output_type": "stream",
     "text": [
      "Enter your choice (1-5):  3\n"
     ]
    },
    {
     "name": "stdout",
     "output_type": "stream",
     "text": [
      "\n",
      "Generated Main Script Template:\n",
      "def main():\n",
      "    \"\"\"Main entry point of the program.\"\"\"\n",
      "    print('Hello, World!')\n",
      "\n",
      "if __name__ == '__main__':\n",
      "    main()\n",
      "\n",
      "\n",
      "Menu:\n",
      "1. Generate a Class Template\n",
      "2. Generate a Function Template\n",
      "3. Generate a Main Script Template\n",
      "4. Generate a Loop Template\n",
      "5. Exit\n"
     ]
    },
    {
     "name": "stdin",
     "output_type": "stream",
     "text": [
      "Enter your choice (1-5):  4\n",
      "Enter the type of loop (for/while):  for\n",
      "Enter the loop variable name:  i\n",
      "Enter the range limit (e.g., 10):  22\n"
     ]
    },
    {
     "name": "stdout",
     "output_type": "stream",
     "text": [
      "\n",
      "Generated Loop Template:\n",
      "for i in range(22):\n",
      "    print(i)\n",
      "\n",
      "\n",
      "Menu:\n",
      "1. Generate a Class Template\n",
      "2. Generate a Function Template\n",
      "3. Generate a Main Script Template\n",
      "4. Generate a Loop Template\n",
      "5. Exit\n"
     ]
    },
    {
     "name": "stdin",
     "output_type": "stream",
     "text": [
      "Enter your choice (1-5):  4\n",
      "Enter the type of loop (for/while):  while\n",
      "Enter the while loop condition (e.g., x < 10):  x < 10\n"
     ]
    },
    {
     "name": "stdout",
     "output_type": "stream",
     "text": [
      "\n",
      "Generated Loop Template:\n",
      "while x < 10:\n",
      "    print('Looping...')\n",
      "    # Add your logic here\n",
      "\n",
      "\n",
      "Menu:\n",
      "1. Generate a Class Template\n",
      "2. Generate a Function Template\n",
      "3. Generate a Main Script Template\n",
      "4. Generate a Loop Template\n",
      "5. Exit\n"
     ]
    },
    {
     "name": "stdin",
     "output_type": "stream",
     "text": [
      "Enter your choice (1-5):  5\n"
     ]
    },
    {
     "name": "stdout",
     "output_type": "stream",
     "text": [
      "Exiting the Template Generator. Goodbye!\n"
     ]
    }
   ],
   "source": [
    "class TemplateGenerator:\n",
    "    # A professional Python Template Generator for generating code templates.\n",
    "\n",
    "    def __init__(self):\n",
    "        print(\"Welcome to the Python Template Generator!\")\n",
    "        print(\"Select an option to generate a template:\")\n",
    "\n",
    "    def main_menu(self):\n",
    "        while True:\n",
    "            print(\"\\nMenu:\")\n",
    "            print(\"1. Generate a Class Template\")\n",
    "            print(\"2. Generate a Function Template\")\n",
    "            print(\"3. Generate a Main Script Template\")\n",
    "            print(\"4. Generate a Loop Template\")\n",
    "            print(\"5. Exit\")\n",
    "            \n",
    "            choice = input(\"Enter your choice (1-5): \")\n",
    "            \n",
    "            if choice == \"1\":\n",
    "                self.generate_class_template()\n",
    "            elif choice == \"2\":\n",
    "                self.generate_function_template()\n",
    "            elif choice == \"3\":\n",
    "                self.generate_main_script_template()\n",
    "            elif choice == \"4\":\n",
    "                self.generate_loop_template()\n",
    "            elif choice == \"5\":\n",
    "                print(\"Exiting the Template Generator. Goodbye!\")\n",
    "                break\n",
    "            else:\n",
    "                print(\"Invalid choice. Please try again.\")\n",
    "\n",
    "    def generate_class_template(self):\n",
    "        class_name = input(\"Enter the class name: \")\n",
    "        attributes = input(\"Enter attributes (comma-separated): \").split(\", \")\n",
    "        methods = input(\"Enter method names (comma-separated): \").split(\", \")\n",
    "\n",
    "        # Build the class template\n",
    "        class_template = f\"class {class_name}:\\n\"\n",
    "        class_template += \"    def __init__(self, {}):\\n\".format(\", \".join(attributes))\n",
    "        for attr in attributes:\n",
    "            class_template += f\"        self.{attr} = {attr}\\n\"\n",
    "        \n",
    "        for method in methods:\n",
    "            class_template += f\"\\n    def {method}(self):\\n\"\n",
    "            class_template += f\"        \\\"\\\"\\\"Describe the {method} method.\\\"\\\"\\\"\\n\"\n",
    "            class_template += \"        pass\\n\"\n",
    "\n",
    "        print(\"\\nGenerated Class Template:\")\n",
    "        print(class_template)\n",
    "\n",
    "    def generate_function_template(self):\n",
    "        function_name = input(\"Enter the function name: \")\n",
    "        parameters = input(\"Enter parameters (comma-separated): \")\n",
    "        description = input(\"Enter a brief description for the function: \")\n",
    "\n",
    "        # Build the function template\n",
    "        function_template = f\"def {function_name}({parameters}):\\n\"\n",
    "        function_template += f\"    \\\"\\\"\\\"{description}\\\"\\\"\\\"\\n\"\n",
    "        function_template += \"    pass\\n\"\n",
    "\n",
    "        print(\"\\nGenerated Function Template:\")\n",
    "        print(function_template)\n",
    "\n",
    "    def generate_main_script_template(self):\n",
    "        script_template = (\n",
    "            \"def main():\\n\"\n",
    "            \"    \\\"\\\"\\\"Main entry point of the program.\\\"\\\"\\\"\\n\"\n",
    "            \"    print('Hello, World!')\\n\\n\"\n",
    "            \"if __name__ == '__main__':\\n\"\n",
    "            \"    main()\\n\"\n",
    "        )\n",
    "\n",
    "        print(\"\\nGenerated Main Script Template:\")\n",
    "        print(script_template)\n",
    "\n",
    "    def generate_loop_template(self):\n",
    "        loop_type = input(\"Enter the type of loop (for/while): \").lower()\n",
    "        if loop_type == \"for\":\n",
    "            variable = input(\"Enter the loop variable name: \")\n",
    "            range_limit = input(\"Enter the range limit (e.g., 10): \")\n",
    "            loop_template = f\"for {variable} in range({range_limit}):\\n    print({variable})\\n\"\n",
    "        elif loop_type == \"while\":\n",
    "            condition = input(\"Enter the while loop condition (e.g., x < 10): \")\n",
    "            loop_template = f\"while {condition}:\\n    print('Looping...')\\n    # Add your logic here\\n\"\n",
    "        else:\n",
    "            print(\"Invalid loop type. Please choose 'for' or 'while'.\")\n",
    "            return\n",
    "\n",
    "        print(\"\\nGenerated Loop Template:\")\n",
    "        print(loop_template)\n",
    "\n",
    "\n",
    "# Run the Template Generator\n",
    "if __name__ == \"__main__\":\n",
    "    generator = TemplateGenerator()\n",
    "    generator.main_menu()\n"
   ]
  },
  {
   "cell_type": "code",
   "execution_count": null,
   "id": "bd3c64e6-3801-4358-8cbe-e91508f64d5a",
   "metadata": {},
   "outputs": [],
   "source": []
  }
 ],
 "metadata": {
  "kernelspec": {
   "display_name": "Python 3 (ipykernel)",
   "language": "python",
   "name": "python3"
  },
  "language_info": {
   "codemirror_mode": {
    "name": "ipython",
    "version": 3
   },
   "file_extension": ".py",
   "mimetype": "text/x-python",
   "name": "python",
   "nbconvert_exporter": "python",
   "pygments_lexer": "ipython3",
   "version": "3.12.4"
  }
 },
 "nbformat": 4,
 "nbformat_minor": 5
}
